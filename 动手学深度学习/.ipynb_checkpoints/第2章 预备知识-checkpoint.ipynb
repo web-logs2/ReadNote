{
 "cells": [
  {
   "cell_type": "markdown",
   "id": "9dee365f",
   "metadata": {},
   "source": [
    "## 2.5 自动微分"
   ]
  },
  {
   "cell_type": "code",
   "execution_count": 3,
   "id": "57250931",
   "metadata": {},
   "outputs": [
    {
     "name": "stdout",
     "output_type": "stream",
     "text": [
      "tensor([0., 1., 2., 3.])\n",
      "tensor([0., 1., 4., 9.], grad_fn=<MulBackward0>)\n",
      "torch.Size([4])\n"
     ]
    }
   ],
   "source": [
    "import torch\n",
    "\n",
    "x = torch.arange(4.0)\n",
    "print(x)\n",
    "x.requires_grad_(True)\n",
    "\n",
    "y = x * x\n",
    "print(y)\n",
    "print(y.shape)"
   ]
  },
  {
   "cell_type": "code",
   "execution_count": 5,
   "id": "4762392a",
   "metadata": {},
   "outputs": [
    {
     "name": "stdout",
     "output_type": "stream",
     "text": [
      "tensor(14., grad_fn=<SumBackward0>)\n",
      "tensor([0., 2., 4., 6.])\n"
     ]
    }
   ],
   "source": [
    "print(y.sum())\n",
    "y.sum().backward()\n",
    "print(x.grad)"
   ]
  },
  {
   "cell_type": "code",
   "execution_count": 8,
   "id": "644bec6e",
   "metadata": {},
   "outputs": [
    {
     "name": "stdout",
     "output_type": "stream",
     "text": [
      "tensor([0., 2., 4., 6.])\n"
     ]
    }
   ],
   "source": [
    "print(x.grad)"
   ]
  },
  {
   "cell_type": "code",
   "execution_count": 10,
   "id": "ea67c9f5",
   "metadata": {},
   "outputs": [
    {
     "name": "stdout",
     "output_type": "stream",
     "text": [
      "tensor([ 0.,  6., 12., 18.])\n"
     ]
    }
   ],
   "source": [
    "c = torch.dot(x, x)\n",
    "c.backward()\n",
    "print(x.grad)  # x 的梯度又在之前的基础上增加了"
   ]
  },
  {
   "cell_type": "code",
   "execution_count": 12,
   "id": "25125491",
   "metadata": {},
   "outputs": [
    {
     "name": "stdout",
     "output_type": "stream",
     "text": [
      "tensor([ 4., 10., 16., 22.])\n"
     ]
    }
   ],
   "source": [
    "d = 4 * x\n",
    "d.sum().backward()\n",
    "print(x.grad)  # 又在之前的梯度的基础上相加了"
   ]
  },
  {
   "cell_type": "markdown",
   "id": "173d752b",
   "metadata": {},
   "source": [
    "#### （1）为什么计算二阶导数比一阶导数的开销更大？\n",
    "\n",
    "是因为要计算两遍？"
   ]
  },
  {
   "cell_type": "code",
   "execution_count": 18,
   "id": "75327492",
   "metadata": {},
   "outputs": [],
   "source": [
    "# x = torch.arange(4.0)\n",
    "# print(x)\n",
    "# x.requires_grad_(True)\n",
    "# # x.grad.zero_()\n",
    "# print(x.grad)\n",
    "# c = torch.dot(x, x)\n",
    "# c.backward()\n",
    "# print(x.grad)\n",
    "# c.backward()\n",
    "# print(x.grad)"
   ]
  },
  {
   "cell_type": "markdown",
   "id": "e587b84c",
   "metadata": {},
   "source": [
    "#### （2）在执行反向传播函数之后，立即再次执行它，看看会发生什么\n",
    "\n",
    "如果直接再执行一遍，会报运行时错误\n",
    "```\n",
    "RuntimeError: Trying to backward through the graph a second time, but the saved intermediate results have already been freed. Specify retain_graph=True when calling backward the first time.\n",
    "```\n",
    "而如果在第一次反向传播时，设置保留计算图（``retain_graph=True``），则又会计算一遍梯度并加在原来的梯度上，即梯度变为原来的两倍"
   ]
  },
  {
   "cell_type": "code",
   "execution_count": 23,
   "id": "98f9e350",
   "metadata": {},
   "outputs": [
    {
     "name": "stdout",
     "output_type": "stream",
     "text": [
      "tensor([0., 1., 2., 3.])\n",
      "tensor([0., 2., 4., 6.])\n"
     ]
    }
   ],
   "source": [
    "x = torch.arange(4.0)\n",
    "print(x)\n",
    "x.requires_grad_(True)\n",
    "\n",
    "y = torch.dot(x, x)\n",
    "y.backward(retain_graph=True)\n",
    "print(x.grad)"
   ]
  },
  {
   "cell_type": "code",
   "execution_count": 24,
   "id": "30d62af3",
   "metadata": {},
   "outputs": [
    {
     "name": "stdout",
     "output_type": "stream",
     "text": [
      "tensor([ 0.,  4.,  8., 12.])\n"
     ]
    }
   ],
   "source": [
    "y.backward()\n",
    "print(x.grad)"
   ]
  },
  {
   "cell_type": "markdown",
   "id": "4c3de325",
   "metadata": {},
   "source": [
    "#### （3）在控制流的例子中，我们计算d关于a的导数，如果将变量a更改为随机向量或矩阵，会发生什么？"
   ]
  }
 ],
 "metadata": {
  "kernelspec": {
   "display_name": "Python 3",
   "language": "python",
   "name": "python3"
  },
  "language_info": {
   "codemirror_mode": {
    "name": "ipython",
    "version": 3
   },
   "file_extension": ".py",
   "mimetype": "text/x-python",
   "name": "python",
   "nbconvert_exporter": "python",
   "pygments_lexer": "ipython3",
   "version": "3.8.8"
  }
 },
 "nbformat": 4,
 "nbformat_minor": 5
}
